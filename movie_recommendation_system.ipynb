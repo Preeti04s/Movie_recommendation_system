{
 "cells": [
  {
   "cell_type": "code",
   "execution_count": 28,
   "id": "638382bc",
   "metadata": {},
   "outputs": [],
   "source": [
    "import pandas as pd\n",
    "import numpy as np\n",
    "from sklearn.metrics.pairwise import cosine_similarity\n",
    "from sklearn.feature_extraction.text import CountVectorizer"
   ]
  },
  {
   "cell_type": "code",
   "execution_count": 29,
   "id": "6cee9dc1",
   "metadata": {},
   "outputs": [],
   "source": [
    "movies_data=pd.read_csv(\"data.csv\")"
   ]
  },
  {
   "cell_type": "code",
   "execution_count": 30,
   "id": "1ecabb3d",
   "metadata": {},
   "outputs": [
    {
     "data": {
      "text/plain": [
       "Index(['index', 'budget', 'genres', 'homepage', 'id', 'keywords',\n",
       "       'original_language', 'original_title', 'overview', 'popularity',\n",
       "       'production_companies', 'production_countries', 'release_date',\n",
       "       'revenue', 'runtime', 'spoken_languages', 'status', 'tagline', 'title',\n",
       "       'vote_average', 'vote_count', 'cast', 'crew', 'director'],\n",
       "      dtype='object')"
      ]
     },
     "execution_count": 30,
     "metadata": {},
     "output_type": "execute_result"
    }
   ],
   "source": [
    "movies_data.keys()"
   ]
  },
  {
   "cell_type": "code",
   "execution_count": 31,
   "id": "14926d42",
   "metadata": {},
   "outputs": [],
   "source": [
    "#taking content from below columns to recommend movies\n",
    "\n",
    "features=[\"keywords\",\"genres\",\"director\",\"cast\"]"
   ]
  },
  {
   "cell_type": "code",
   "execution_count": 32,
   "id": "8b65c8cf",
   "metadata": {},
   "outputs": [],
   "source": [
    "#removing the NULL values with space\n",
    "\n",
    "for i in features:\n",
    "    movies_data[i]=movies_data[i].fillna(\"\")"
   ]
  },
  {
   "cell_type": "code",
   "execution_count": 33,
   "id": "51281038",
   "metadata": {},
   "outputs": [],
   "source": [
    "#making a function to collect all the data from df columns to make one description column\n",
    "\n",
    "def MovieCount(row):\n",
    "    \n",
    "    Out = \"\"\n",
    "    for i in features:\n",
    "        Out += row[i]\n",
    "        Out += \" \"\n",
    "\n",
    "    return Out"
   ]
  },
  {
   "cell_type": "code",
   "execution_count": 34,
   "id": "85cc1cd1",
   "metadata": {},
   "outputs": [],
   "source": [
    "#making extra column named description \n",
    "\n",
    "movies_data[\"description\"]=MovieCount(movies_data)"
   ]
  },
  {
   "cell_type": "code",
   "execution_count": 35,
   "id": "d141f6da",
   "metadata": {},
   "outputs": [
    {
     "data": {
      "text/html": [
       "<div>\n",
       "<style scoped>\n",
       "    .dataframe tbody tr th:only-of-type {\n",
       "        vertical-align: middle;\n",
       "    }\n",
       "\n",
       "    .dataframe tbody tr th {\n",
       "        vertical-align: top;\n",
       "    }\n",
       "\n",
       "    .dataframe thead th {\n",
       "        text-align: right;\n",
       "    }\n",
       "</style>\n",
       "<table border=\"1\" class=\"dataframe\">\n",
       "  <thead>\n",
       "    <tr style=\"text-align: right;\">\n",
       "      <th></th>\n",
       "      <th>index</th>\n",
       "      <th>budget</th>\n",
       "      <th>genres</th>\n",
       "      <th>homepage</th>\n",
       "      <th>id</th>\n",
       "      <th>keywords</th>\n",
       "      <th>original_language</th>\n",
       "      <th>original_title</th>\n",
       "      <th>overview</th>\n",
       "      <th>popularity</th>\n",
       "      <th>...</th>\n",
       "      <th>spoken_languages</th>\n",
       "      <th>status</th>\n",
       "      <th>tagline</th>\n",
       "      <th>title</th>\n",
       "      <th>vote_average</th>\n",
       "      <th>vote_count</th>\n",
       "      <th>cast</th>\n",
       "      <th>crew</th>\n",
       "      <th>director</th>\n",
       "      <th>description</th>\n",
       "    </tr>\n",
       "  </thead>\n",
       "  <tbody>\n",
       "    <tr>\n",
       "      <th>0</th>\n",
       "      <td>0</td>\n",
       "      <td>237000000</td>\n",
       "      <td>Action Adventure Fantasy Science Fiction</td>\n",
       "      <td>http://www.avatarmovie.com/</td>\n",
       "      <td>19995</td>\n",
       "      <td>culture clash future space war space colony so...</td>\n",
       "      <td>en</td>\n",
       "      <td>Avatar</td>\n",
       "      <td>In the 22nd century, a paraplegic Marine is di...</td>\n",
       "      <td>150.437577</td>\n",
       "      <td>...</td>\n",
       "      <td>[{\"iso_639_1\": \"en\", \"name\": \"English\"}, {\"iso...</td>\n",
       "      <td>Released</td>\n",
       "      <td>Enter the World of Pandora.</td>\n",
       "      <td>Avatar</td>\n",
       "      <td>7.2</td>\n",
       "      <td>11800</td>\n",
       "      <td>Sam Worthington Zoe Saldana Sigourney Weaver S...</td>\n",
       "      <td>[{'name': 'Stephen E. Rivkin', 'gender': 0, 'd...</td>\n",
       "      <td>James Cameron</td>\n",
       "      <td>culture clash future space war space colony so...</td>\n",
       "    </tr>\n",
       "    <tr>\n",
       "      <th>1</th>\n",
       "      <td>1</td>\n",
       "      <td>300000000</td>\n",
       "      <td>Adventure Fantasy Action</td>\n",
       "      <td>http://disney.go.com/disneypictures/pirates/</td>\n",
       "      <td>285</td>\n",
       "      <td>ocean drug abuse exotic island east india trad...</td>\n",
       "      <td>en</td>\n",
       "      <td>Pirates of the Caribbean: At World's End</td>\n",
       "      <td>Captain Barbossa, long believed to be dead, ha...</td>\n",
       "      <td>139.082615</td>\n",
       "      <td>...</td>\n",
       "      <td>[{\"iso_639_1\": \"en\", \"name\": \"English\"}]</td>\n",
       "      <td>Released</td>\n",
       "      <td>At the end of the world, the adventure begins.</td>\n",
       "      <td>Pirates of the Caribbean: At World's End</td>\n",
       "      <td>6.9</td>\n",
       "      <td>4500</td>\n",
       "      <td>Johnny Depp Orlando Bloom Keira Knightley Stel...</td>\n",
       "      <td>[{'name': 'Dariusz Wolski', 'gender': 2, 'depa...</td>\n",
       "      <td>Gore Verbinski</td>\n",
       "      <td>ocean drug abuse exotic island east india trad...</td>\n",
       "    </tr>\n",
       "    <tr>\n",
       "      <th>2</th>\n",
       "      <td>2</td>\n",
       "      <td>245000000</td>\n",
       "      <td>Action Adventure Crime</td>\n",
       "      <td>http://www.sonypictures.com/movies/spectre/</td>\n",
       "      <td>206647</td>\n",
       "      <td>spy based on novel secret agent sequel mi6</td>\n",
       "      <td>en</td>\n",
       "      <td>Spectre</td>\n",
       "      <td>A cryptic message from Bond’s past sends him o...</td>\n",
       "      <td>107.376788</td>\n",
       "      <td>...</td>\n",
       "      <td>[{\"iso_639_1\": \"fr\", \"name\": \"Fran\\u00e7ais\"},...</td>\n",
       "      <td>Released</td>\n",
       "      <td>A Plan No One Escapes</td>\n",
       "      <td>Spectre</td>\n",
       "      <td>6.3</td>\n",
       "      <td>4466</td>\n",
       "      <td>Daniel Craig Christoph Waltz L\\u00e9a Seydoux ...</td>\n",
       "      <td>[{'name': 'Thomas Newman', 'gender': 2, 'depar...</td>\n",
       "      <td>Sam Mendes</td>\n",
       "      <td>spy based on novel secret agent sequel mi6 Act...</td>\n",
       "    </tr>\n",
       "    <tr>\n",
       "      <th>3</th>\n",
       "      <td>3</td>\n",
       "      <td>250000000</td>\n",
       "      <td>Action Crime Drama Thriller</td>\n",
       "      <td>http://www.thedarkknightrises.com/</td>\n",
       "      <td>49026</td>\n",
       "      <td>dc comics crime fighter terrorist secret ident...</td>\n",
       "      <td>en</td>\n",
       "      <td>The Dark Knight Rises</td>\n",
       "      <td>Following the death of District Attorney Harve...</td>\n",
       "      <td>112.312950</td>\n",
       "      <td>...</td>\n",
       "      <td>[{\"iso_639_1\": \"en\", \"name\": \"English\"}]</td>\n",
       "      <td>Released</td>\n",
       "      <td>The Legend Ends</td>\n",
       "      <td>The Dark Knight Rises</td>\n",
       "      <td>7.6</td>\n",
       "      <td>9106</td>\n",
       "      <td>Christian Bale Michael Caine Gary Oldman Anne ...</td>\n",
       "      <td>[{'name': 'Hans Zimmer', 'gender': 2, 'departm...</td>\n",
       "      <td>Christopher Nolan</td>\n",
       "      <td>dc comics crime fighter terrorist secret ident...</td>\n",
       "    </tr>\n",
       "    <tr>\n",
       "      <th>4</th>\n",
       "      <td>4</td>\n",
       "      <td>260000000</td>\n",
       "      <td>Action Adventure Science Fiction</td>\n",
       "      <td>http://movies.disney.com/john-carter</td>\n",
       "      <td>49529</td>\n",
       "      <td>based on novel mars medallion space travel pri...</td>\n",
       "      <td>en</td>\n",
       "      <td>John Carter</td>\n",
       "      <td>John Carter is a war-weary, former military ca...</td>\n",
       "      <td>43.926995</td>\n",
       "      <td>...</td>\n",
       "      <td>[{\"iso_639_1\": \"en\", \"name\": \"English\"}]</td>\n",
       "      <td>Released</td>\n",
       "      <td>Lost in our world, found in another.</td>\n",
       "      <td>John Carter</td>\n",
       "      <td>6.1</td>\n",
       "      <td>2124</td>\n",
       "      <td>Taylor Kitsch Lynn Collins Samantha Morton Wil...</td>\n",
       "      <td>[{'name': 'Andrew Stanton', 'gender': 2, 'depa...</td>\n",
       "      <td>Andrew Stanton</td>\n",
       "      <td>based on novel mars medallion space travel pri...</td>\n",
       "    </tr>\n",
       "  </tbody>\n",
       "</table>\n",
       "<p>5 rows × 25 columns</p>\n",
       "</div>"
      ],
      "text/plain": [
       "   index     budget                                    genres  \\\n",
       "0      0  237000000  Action Adventure Fantasy Science Fiction   \n",
       "1      1  300000000                  Adventure Fantasy Action   \n",
       "2      2  245000000                    Action Adventure Crime   \n",
       "3      3  250000000               Action Crime Drama Thriller   \n",
       "4      4  260000000          Action Adventure Science Fiction   \n",
       "\n",
       "                                       homepage      id  \\\n",
       "0                   http://www.avatarmovie.com/   19995   \n",
       "1  http://disney.go.com/disneypictures/pirates/     285   \n",
       "2   http://www.sonypictures.com/movies/spectre/  206647   \n",
       "3            http://www.thedarkknightrises.com/   49026   \n",
       "4          http://movies.disney.com/john-carter   49529   \n",
       "\n",
       "                                            keywords original_language  \\\n",
       "0  culture clash future space war space colony so...                en   \n",
       "1  ocean drug abuse exotic island east india trad...                en   \n",
       "2         spy based on novel secret agent sequel mi6                en   \n",
       "3  dc comics crime fighter terrorist secret ident...                en   \n",
       "4  based on novel mars medallion space travel pri...                en   \n",
       "\n",
       "                             original_title  \\\n",
       "0                                    Avatar   \n",
       "1  Pirates of the Caribbean: At World's End   \n",
       "2                                   Spectre   \n",
       "3                     The Dark Knight Rises   \n",
       "4                               John Carter   \n",
       "\n",
       "                                            overview  popularity  ...  \\\n",
       "0  In the 22nd century, a paraplegic Marine is di...  150.437577  ...   \n",
       "1  Captain Barbossa, long believed to be dead, ha...  139.082615  ...   \n",
       "2  A cryptic message from Bond’s past sends him o...  107.376788  ...   \n",
       "3  Following the death of District Attorney Harve...  112.312950  ...   \n",
       "4  John Carter is a war-weary, former military ca...   43.926995  ...   \n",
       "\n",
       "                                    spoken_languages    status  \\\n",
       "0  [{\"iso_639_1\": \"en\", \"name\": \"English\"}, {\"iso...  Released   \n",
       "1           [{\"iso_639_1\": \"en\", \"name\": \"English\"}]  Released   \n",
       "2  [{\"iso_639_1\": \"fr\", \"name\": \"Fran\\u00e7ais\"},...  Released   \n",
       "3           [{\"iso_639_1\": \"en\", \"name\": \"English\"}]  Released   \n",
       "4           [{\"iso_639_1\": \"en\", \"name\": \"English\"}]  Released   \n",
       "\n",
       "                                          tagline  \\\n",
       "0                     Enter the World of Pandora.   \n",
       "1  At the end of the world, the adventure begins.   \n",
       "2                           A Plan No One Escapes   \n",
       "3                                 The Legend Ends   \n",
       "4            Lost in our world, found in another.   \n",
       "\n",
       "                                      title  vote_average vote_count  \\\n",
       "0                                    Avatar           7.2      11800   \n",
       "1  Pirates of the Caribbean: At World's End           6.9       4500   \n",
       "2                                   Spectre           6.3       4466   \n",
       "3                     The Dark Knight Rises           7.6       9106   \n",
       "4                               John Carter           6.1       2124   \n",
       "\n",
       "                                                cast  \\\n",
       "0  Sam Worthington Zoe Saldana Sigourney Weaver S...   \n",
       "1  Johnny Depp Orlando Bloom Keira Knightley Stel...   \n",
       "2  Daniel Craig Christoph Waltz L\\u00e9a Seydoux ...   \n",
       "3  Christian Bale Michael Caine Gary Oldman Anne ...   \n",
       "4  Taylor Kitsch Lynn Collins Samantha Morton Wil...   \n",
       "\n",
       "                                                crew           director  \\\n",
       "0  [{'name': 'Stephen E. Rivkin', 'gender': 0, 'd...      James Cameron   \n",
       "1  [{'name': 'Dariusz Wolski', 'gender': 2, 'depa...     Gore Verbinski   \n",
       "2  [{'name': 'Thomas Newman', 'gender': 2, 'depar...         Sam Mendes   \n",
       "3  [{'name': 'Hans Zimmer', 'gender': 2, 'departm...  Christopher Nolan   \n",
       "4  [{'name': 'Andrew Stanton', 'gender': 2, 'depa...     Andrew Stanton   \n",
       "\n",
       "                                         description  \n",
       "0  culture clash future space war space colony so...  \n",
       "1  ocean drug abuse exotic island east india trad...  \n",
       "2  spy based on novel secret agent sequel mi6 Act...  \n",
       "3  dc comics crime fighter terrorist secret ident...  \n",
       "4  based on novel mars medallion space travel pri...  \n",
       "\n",
       "[5 rows x 25 columns]"
      ]
     },
     "execution_count": 35,
     "metadata": {},
     "output_type": "execute_result"
    }
   ],
   "source": [
    "movies_data.head(5)"
   ]
  },
  {
   "cell_type": "code",
   "execution_count": 36,
   "id": "233dd814",
   "metadata": {},
   "outputs": [],
   "source": [
    "#converting the title in lowercase\n",
    "\n",
    "def LowerCase(title):\n",
    "    return title.lower()"
   ]
  },
  {
   "cell_type": "code",
   "execution_count": 37,
   "id": "fba92d8b",
   "metadata": {},
   "outputs": [],
   "source": [
    "movies_data.title=movies_data.title.apply(LowerCase)"
   ]
  },
  {
   "cell_type": "code",
   "execution_count": 38,
   "id": "037a3188",
   "metadata": {},
   "outputs": [],
   "source": [
    "#making object of countvectorizer class\n",
    "\n",
    "cv=CountVectorizer()"
   ]
  },
  {
   "cell_type": "code",
   "execution_count": 39,
   "id": "ff71dfb7",
   "metadata": {},
   "outputs": [],
   "source": [
    "#calling fit function to make the count of words \n",
    "\n",
    "metrix=cv.fit_transform(movies_data.description)"
   ]
  },
  {
   "cell_type": "code",
   "execution_count": 41,
   "id": "db31b844",
   "metadata": {},
   "outputs": [],
   "source": [
    "#the value return by fit function is not in array to convert it into array we need to call the function toarray()\n",
    "\n",
    "#metrix.toarray()"
   ]
  },
  {
   "cell_type": "code",
   "execution_count": 42,
   "id": "7541bf96",
   "metadata": {},
   "outputs": [
    {
     "data": {
      "text/plain": [
       "0.10540925533894599"
      ]
     },
     "execution_count": 42,
     "metadata": {},
     "output_type": "execute_result"
    }
   ],
   "source": [
    "#calling object of cosine similarity and passing the argument metrix to make some similarity between values\n",
    "\n",
    "co_sim=cosine_similarity(metrix)\n",
    "co_sim[0][1]"
   ]
  },
  {
   "cell_type": "code",
   "execution_count": 44,
   "id": "61f098be",
   "metadata": {},
   "outputs": [
    {
     "name": "stdout",
     "output_type": "stream",
     "text": [
      "Enter Your Movieavatar\n",
      "\n",
      " Top Similar Movies:\n",
      "1 avatar\n",
      "2 guardians of the galaxy\n",
      "3 aliens\n",
      "4 star wars: clone wars: volume 1\n",
      "5 star trek into darkness\n"
     ]
    }
   ],
   "source": [
    "#taking input from the user and recommending movies for the similar\n",
    "\n",
    "movie_name = input(\"Enter Your Movie\")\n",
    "movie_name = movie_name.lower()\n",
    "m_index = movies_data[movies_data.title == movie_name]['index'].values[0]\n",
    "similar_word_value = co_sim[m_index]\n",
    "similar_movies = list(enumerate(similar_word_value))\n",
    "sorted_similar_movies = sorted(similar_movies, key = lambda x:x[1], reverse=True)\n",
    "movies_num = 5\n",
    "print(\"\\n Top Similar Movies:\")\n",
    "for i in range(movies_num):\n",
    "    index = sorted_similar_movies[i][0]\n",
    "    movie = list(movies_data[index:index+1].title)[0]\n",
    "    print(i+1, movie)\n"
   ]
  },
  {
   "cell_type": "code",
   "execution_count": null,
   "id": "98fbf372",
   "metadata": {},
   "outputs": [],
   "source": []
  },
  {
   "cell_type": "code",
   "execution_count": null,
   "id": "3faeae22",
   "metadata": {},
   "outputs": [],
   "source": []
  }
 ],
 "metadata": {
  "kernelspec": {
   "display_name": "Python 3 (ipykernel)",
   "language": "python",
   "name": "python3"
  },
  "language_info": {
   "codemirror_mode": {
    "name": "ipython",
    "version": 3
   },
   "file_extension": ".py",
   "mimetype": "text/x-python",
   "name": "python",
   "nbconvert_exporter": "python",
   "pygments_lexer": "ipython3",
   "version": "3.9.7"
  }
 },
 "nbformat": 4,
 "nbformat_minor": 5
}
